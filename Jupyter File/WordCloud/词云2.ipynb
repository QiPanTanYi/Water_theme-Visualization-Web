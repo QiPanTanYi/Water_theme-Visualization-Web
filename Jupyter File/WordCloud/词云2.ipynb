{
 "cells": [
  {
   "cell_type": "code",
   "execution_count": 2,
   "id": "01e44150",
   "metadata": {},
   "outputs": [],
   "source": [
    "import matplotlib.pyplot as plt\n",
    "from PIL import Image\n",
    "import numpy as np\n",
    "import imageio\n",
    "import jieba\n",
    "import wordcloud"
   ]
  },
  {
   "cell_type": "code",
   "execution_count": 4,
   "id": "b3bda31f",
   "metadata": {},
   "outputs": [
    {
     "name": "stderr",
     "output_type": "stream",
     "text": [
      "C:\\Users\\李明峰\\AppData\\Local\\Temp\\ipykernel_19736\\2631725608.py:1: DeprecationWarning: Starting with ImageIO v3 the behavior of this function will switch to that of iio.v3.imread. To keep the current behavior (and make this warning dissapear) use `import imageio.v2 as imageio` or call `imageio.v2.imread` directly.\n",
      "  mask=imageio.imread('./png/04.png')\n"
     ]
    },
    {
     "data": {
      "text/plain": [
       "<wordcloud.wordcloud.WordCloud at 0x14a578a1700>"
      ]
     },
     "execution_count": 4,
     "metadata": {},
     "output_type": "execute_result"
    }
   ],
   "source": [
    "mask=imageio.imread('./png/04.png')\n",
    "with open('./txt/01.txt',encoding='utf-8') as f:\n",
    "    t=f.read()\n",
    "ls=jieba.lcut(t)\n",
    "txt=\" \".join(ls)\n",
    "w=wordcloud.WordCloud(width=800,height=300,\n",
    "font_path=\"msyh.ttc\",colormap='cool',\n",
    "background_color='white',mask=mask)\n",
    "w.generate(txt)\n",
    "w.to_file(r'./png/ciyun.png')"
   ]
  },
  {
   "cell_type": "code",
   "execution_count": null,
   "id": "96cee2b5",
   "metadata": {},
   "outputs": [],
   "source": []
  }
 ],
 "metadata": {
  "kernelspec": {
   "display_name": "Python 3 (ipykernel)",
   "language": "python",
   "name": "python3"
  },
  "language_info": {
   "codemirror_mode": {
    "name": "ipython",
    "version": 3
   },
   "file_extension": ".py",
   "mimetype": "text/x-python",
   "name": "python",
   "nbconvert_exporter": "python",
   "pygments_lexer": "ipython3",
   "version": "3.9.13"
  }
 },
 "nbformat": 4,
 "nbformat_minor": 5
}
